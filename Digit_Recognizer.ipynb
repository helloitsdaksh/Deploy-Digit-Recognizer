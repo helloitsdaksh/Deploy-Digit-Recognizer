{
 "metadata": {
  "language_info": {
   "codemirror_mode": {
    "name": "ipython",
    "version": 3
   },
   "file_extension": ".py",
   "mimetype": "text/x-python",
   "name": "python",
   "nbconvert_exporter": "python",
   "pygments_lexer": "ipython3",
   "version": "3.8.8"
  },
  "orig_nbformat": 4,
  "kernelspec": {
   "name": "python3",
   "display_name": "Python 3.8.8 64-bit ('ml': conda)"
  },
  "interpreter": {
   "hash": "e647baf2a2b3bc8f4cff3ece6d7b666051dc6ebc1e637bf929e446d80dc32a3d"
  }
 },
 "nbformat": 4,
 "nbformat_minor": 2,
 "cells": [
  {
   "cell_type": "code",
   "execution_count": 2,
   "metadata": {},
   "outputs": [],
   "source": [
    "import tensorflow as tf\n",
    "import pandas as pd\n",
    "import numpy as np\n",
    "import matplotlib.pyplot as plt\n"
   ]
  },
  {
   "cell_type": "code",
   "execution_count": 3,
   "metadata": {},
   "outputs": [
    {
     "output_type": "stream",
     "name": "stdout",
     "text": [
      "Downloading data from https://storage.googleapis.com/tensorflow/tf-keras-datasets/mnist.npz\n",
      "11493376/11490434 [==============================] - 2s 0us/step\n"
     ]
    }
   ],
   "source": [
    "(X_train_full,y_train_full),(X_test,y_test) = tf.keras.datasets.mnist.load_data(path=\"mnist.npz\")"
   ]
  },
  {
   "cell_type": "code",
   "execution_count": 4,
   "metadata": {},
   "outputs": [
    {
     "output_type": "stream",
     "name": "stdout",
     "text": [
      "(60000, 28, 28)\n(10000, 28, 28)\n"
     ]
    }
   ],
   "source": [
    "print(X_train_full.shape)\n",
    "print(X_test.shape)"
   ]
  },
  {
   "cell_type": "code",
   "execution_count": 5,
   "metadata": {},
   "outputs": [],
   "source": [
    "X_valid,X_train = X_train_full[:5000]/255.0,X_train_full[5000:]/255.0\n",
    "y_valid,y_train = y_train_full[:5000],y_train_full[5000:]"
   ]
  },
  {
   "cell_type": "code",
   "execution_count": 6,
   "metadata": {},
   "outputs": [],
   "source": [
    "model = tf.keras.Sequential([\n",
    "    tf.keras.layers.Flatten(input_shape = [28,28]),\n",
    "    tf.keras.layers.Dense(300,activation = 'relu'),\n",
    "    tf.keras.layers.Dense(100,activation = 'relu'),\n",
    "    tf.keras.layers.Dense(10,activation = 'softmax')\n",
    "     \n",
    "])"
   ]
  },
  {
   "cell_type": "code",
   "execution_count": 7,
   "metadata": {},
   "outputs": [],
   "source": [
    "model.compile(loss = 'sparse_categorical_crossentropy',optimizer = 'sgd',metrics = ['accuracy'])"
   ]
  },
  {
   "cell_type": "code",
   "execution_count": 8,
   "metadata": {},
   "outputs": [
    {
     "output_type": "stream",
     "name": "stdout",
     "text": [
      "Epoch 1/30\n",
      "1719/1719 [==============================] - 3s 1ms/step - loss: 0.6191 - accuracy: 0.8404 - val_loss: 0.3056 - val_accuracy: 0.9162\n",
      "Epoch 2/30\n",
      "1719/1719 [==============================] - 2s 1ms/step - loss: 0.2874 - accuracy: 0.9191 - val_loss: 0.2351 - val_accuracy: 0.9354\n",
      "Epoch 3/30\n",
      "1719/1719 [==============================] - 2s 1ms/step - loss: 0.2344 - accuracy: 0.9337 - val_loss: 0.2042 - val_accuracy: 0.9458\n",
      "Epoch 4/30\n",
      "1719/1719 [==============================] - 2s 1ms/step - loss: 0.2009 - accuracy: 0.9427 - val_loss: 0.1786 - val_accuracy: 0.9508\n",
      "Epoch 5/30\n",
      "1719/1719 [==============================] - 2s 1ms/step - loss: 0.1763 - accuracy: 0.9501 - val_loss: 0.1639 - val_accuracy: 0.9572\n",
      "Epoch 6/30\n",
      "1719/1719 [==============================] - 2s 1ms/step - loss: 0.1567 - accuracy: 0.9557 - val_loss: 0.1492 - val_accuracy: 0.9620\n",
      "Epoch 7/30\n",
      "1719/1719 [==============================] - 2s 1ms/step - loss: 0.1413 - accuracy: 0.9594 - val_loss: 0.1354 - val_accuracy: 0.9642\n",
      "Epoch 8/30\n",
      "1719/1719 [==============================] - 2s 1ms/step - loss: 0.1276 - accuracy: 0.9635 - val_loss: 0.1289 - val_accuracy: 0.9674\n",
      "Epoch 9/30\n",
      "1719/1719 [==============================] - 2s 1ms/step - loss: 0.1166 - accuracy: 0.9671 - val_loss: 0.1201 - val_accuracy: 0.9690\n",
      "Epoch 10/30\n",
      "1719/1719 [==============================] - 2s 1ms/step - loss: 0.1071 - accuracy: 0.9705 - val_loss: 0.1142 - val_accuracy: 0.9708\n",
      "Epoch 11/30\n",
      "1719/1719 [==============================] - 2s 1ms/step - loss: 0.0984 - accuracy: 0.9724 - val_loss: 0.1085 - val_accuracy: 0.9710\n",
      "Epoch 12/30\n",
      "1719/1719 [==============================] - 2s 1ms/step - loss: 0.0913 - accuracy: 0.9744 - val_loss: 0.1035 - val_accuracy: 0.9724\n",
      "Epoch 13/30\n",
      "1719/1719 [==============================] - 3s 2ms/step - loss: 0.0845 - accuracy: 0.9764 - val_loss: 0.0986 - val_accuracy: 0.9728\n",
      "Epoch 14/30\n",
      "1719/1719 [==============================] - 2s 1ms/step - loss: 0.0784 - accuracy: 0.9783 - val_loss: 0.0976 - val_accuracy: 0.9740\n",
      "Epoch 15/30\n",
      "1719/1719 [==============================] - 2s 1ms/step - loss: 0.0735 - accuracy: 0.9795 - val_loss: 0.0903 - val_accuracy: 0.9750\n",
      "Epoch 16/30\n",
      "1719/1719 [==============================] - 2s 1ms/step - loss: 0.0686 - accuracy: 0.9806 - val_loss: 0.0910 - val_accuracy: 0.9730\n",
      "Epoch 17/30\n",
      "1719/1719 [==============================] - 2s 1ms/step - loss: 0.0642 - accuracy: 0.9822 - val_loss: 0.0858 - val_accuracy: 0.9758\n",
      "Epoch 18/30\n",
      "1719/1719 [==============================] - 2s 1ms/step - loss: 0.0602 - accuracy: 0.9838 - val_loss: 0.0846 - val_accuracy: 0.9764\n",
      "Epoch 19/30\n",
      "1719/1719 [==============================] - 2s 1ms/step - loss: 0.0564 - accuracy: 0.9845 - val_loss: 0.0862 - val_accuracy: 0.9750\n",
      "Epoch 20/30\n",
      "1719/1719 [==============================] - 2s 1ms/step - loss: 0.0530 - accuracy: 0.9860 - val_loss: 0.0807 - val_accuracy: 0.9762\n",
      "Epoch 21/30\n",
      "1719/1719 [==============================] - 2s 1ms/step - loss: 0.0498 - accuracy: 0.9869 - val_loss: 0.0793 - val_accuracy: 0.9770\n",
      "Epoch 22/30\n",
      "1719/1719 [==============================] - 2s 1ms/step - loss: 0.0469 - accuracy: 0.9878 - val_loss: 0.0800 - val_accuracy: 0.9764\n",
      "Epoch 23/30\n",
      "1719/1719 [==============================] - 2s 1ms/step - loss: 0.0445 - accuracy: 0.9888 - val_loss: 0.0761 - val_accuracy: 0.9786\n",
      "Epoch 24/30\n",
      "1719/1719 [==============================] - 2s 1ms/step - loss: 0.0418 - accuracy: 0.9892 - val_loss: 0.0746 - val_accuracy: 0.9794\n",
      "Epoch 25/30\n",
      "1719/1719 [==============================] - 2s 1ms/step - loss: 0.0392 - accuracy: 0.9901 - val_loss: 0.0744 - val_accuracy: 0.9776\n",
      "Epoch 26/30\n",
      "1719/1719 [==============================] - 2s 1ms/step - loss: 0.0371 - accuracy: 0.9907 - val_loss: 0.0750 - val_accuracy: 0.9782\n",
      "Epoch 27/30\n",
      "1719/1719 [==============================] - 2s 1ms/step - loss: 0.0349 - accuracy: 0.9916 - val_loss: 0.0728 - val_accuracy: 0.9796\n",
      "Epoch 28/30\n",
      "1719/1719 [==============================] - 2s 1ms/step - loss: 0.0334 - accuracy: 0.9917 - val_loss: 0.0726 - val_accuracy: 0.9780\n",
      "Epoch 29/30\n",
      "1719/1719 [==============================] - 2s 1ms/step - loss: 0.0315 - accuracy: 0.9926 - val_loss: 0.0749 - val_accuracy: 0.9786\n",
      "Epoch 30/30\n",
      "1719/1719 [==============================] - 2s 1ms/step - loss: 0.0297 - accuracy: 0.9931 - val_loss: 0.0721 - val_accuracy: 0.9792\n"
     ]
    }
   ],
   "source": [
    "history = model.fit(X_train,y_train,epochs = 30,validation_data=(X_valid,y_valid))"
   ]
  },
  {
   "cell_type": "code",
   "execution_count": 9,
   "metadata": {},
   "outputs": [
    {
     "output_type": "stream",
     "name": "stdout",
     "text": [
      "313/313 [==============================] - 0s 1ms/step - loss: 11.4904 - accuracy: 0.9777\n"
     ]
    },
    {
     "output_type": "execute_result",
     "data": {
      "text/plain": [
       "[11.490375518798828, 0.9776999950408936]"
      ]
     },
     "metadata": {},
     "execution_count": 9
    }
   ],
   "source": [
    "model.evaluate(X_test,y_test)"
   ]
  },
  {
   "cell_type": "code",
   "execution_count": 11,
   "metadata": {},
   "outputs": [],
   "source": [
    "model.save(\"/home/specter/Desktop/python/PROJECTS/Deploy Digit Recognizer/ model.h5\")"
   ]
  },
  {
   "cell_type": "code",
   "execution_count": null,
   "metadata": {},
   "outputs": [],
   "source": []
  }
 ]
}